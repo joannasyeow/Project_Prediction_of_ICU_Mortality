{
 "cells": [
  {
   "cell_type": "code",
   "execution_count": 34,
   "metadata": {
    "collapsed": true
   },
   "outputs": [],
   "source": [
    "# Import packages\n",
    "\n",
    "import glob\n",
    "import csv\n",
    "import pandas as pd\n",
    "from sqlalchemy import create_engine\n",
    "import psycopg2"
   ]
  },
  {
   "cell_type": "code",
   "execution_count": 2,
   "metadata": {
    "collapsed": true
   },
   "outputs": [],
   "source": [
    "### String to Float from CSV read\n",
    "\n",
    "def strtofloat(data):\n",
    "    \"\"\"argument have to be a list of list\"\"\"\n",
    "    import re\n",
    "    new_data = []\n",
    "    for row in data:\n",
    "        new_row = []\n",
    "        for item in row:\n",
    "            if  re.match(\"[+-]?(?:\\d+(?:\\.\\d+)?|\\.\\d+)$\", item):\n",
    "                new_row.append(float(item))\n",
    "            else:\n",
    "                new_row.append(item)\n",
    "\n",
    "        new_data.append(new_row)\n",
    "\n",
    "    return new_data"
   ]
  },
  {
   "cell_type": "code",
   "execution_count": 3,
   "metadata": {},
   "outputs": [],
   "source": [
    "# Iterate through each file name\n",
    "\n",
    "for filename in glob.iglob('./training_set_a/*.txt'):\n",
    "    \n",
    "    # Open each file as result\n",
    "    with open(filename) as inputfile:\n",
    "        \n",
    "        # list of list\n",
    "        data = list(csv.reader(inputfile))\n",
    "        "
   ]
  },
  {
   "cell_type": "code",
   "execution_count": 32,
   "metadata": {},
   "outputs": [],
   "source": [
    "# Open file\n",
    "\n",
    "with open('./training_set_a/132539.txt') as inputfile:\n",
    "    \n",
    "    # Open file in list of list\n",
    "    results = list(csv.reader(inputfile))\n",
    "    \n",
    "    # Convert list of list to DataFrame\n",
    "    results = pd.DataFrame(results[1:],columns=results[0])\n",
    "    \n",
    "    # Change Value to float\n",
    "    results.Value = results.Value.astype(float)"
   ]
  },
  {
   "cell_type": "code",
   "execution_count": 33,
   "metadata": {},
   "outputs": [
    {
     "name": "stdout",
     "output_type": "stream",
     "text": [
      "      Time  Parameter      Value\n",
      "0    00:00   RecordID  132539.00\n",
      "1    00:00        Age      54.00\n",
      "2    00:00     Gender       0.00\n",
      "3    00:00     Height      -1.00\n",
      "4    00:00    ICUType       4.00\n",
      "5    00:00     Weight      -1.00\n",
      "6    00:07        GCS      15.00\n",
      "7    00:07         HR      73.00\n",
      "8    00:07  NIDiasABP      65.00\n",
      "9    00:07      NIMAP      92.33\n",
      "10   00:07   NISysABP     147.00\n",
      "11   00:07   RespRate      19.00\n",
      "12   00:07       Temp      35.10\n",
      "13   00:07      Urine     900.00\n",
      "14   00:37         HR      77.00\n",
      "15   00:37  NIDiasABP      58.00\n",
      "16   00:37      NIMAP      91.00\n",
      "17   00:37   NISysABP     157.00\n",
      "18   00:37   RespRate      19.00\n",
      "19   00:37       Temp      35.60\n",
      "20   00:37      Urine      60.00\n",
      "21   01:37         HR      60.00\n",
      "22   01:37  NIDiasABP      62.00\n",
      "23   01:37      NIMAP      87.00\n",
      "24   01:37   NISysABP     137.00\n",
      "25   01:37   RespRate      18.00\n",
      "26   01:37      Urine      30.00\n",
      "27   02:37         HR      62.00\n",
      "28   02:37  NIDiasABP      52.00\n",
      "29   02:37      NIMAP      75.67\n",
      "..     ...        ...        ...\n",
      "243  41:37   RespRate      14.00\n",
      "244  41:37      Urine     450.00\n",
      "245  42:37  NIDiasABP      67.00\n",
      "246  42:37      NIMAP      87.67\n",
      "247  42:37   NISysABP     129.00\n",
      "248  42:37   RespRate      23.00\n",
      "249  43:37        GCS      15.00\n",
      "250  43:37         HR      73.00\n",
      "251  43:37  NIDiasABP      64.00\n",
      "252  43:37      NIMAP      82.67\n",
      "253  43:37   NISysABP     120.00\n",
      "254  43:37   RespRate      17.00\n",
      "255  43:37       Temp      37.60\n",
      "256  43:37      Urine     250.00\n",
      "257  44:37   RespRate      20.00\n",
      "258  45:37         HR      84.00\n",
      "259  45:37  NIDiasABP      56.00\n",
      "260  45:37      NIMAP      81.33\n",
      "261  45:37   NISysABP     132.00\n",
      "262  45:37   RespRate      20.00\n",
      "263  45:37      Urine     300.00\n",
      "264  46:37   RespRate      20.00\n",
      "265  47:37        GCS      15.00\n",
      "266  47:37         HR      86.00\n",
      "267  47:37  NIDiasABP      55.00\n",
      "268  47:37      NIMAP      79.33\n",
      "269  47:37   NISysABP     128.00\n",
      "270  47:37   RespRate      23.00\n",
      "271  47:37       Temp      37.80\n",
      "272  47:37      Urine     280.00\n",
      "\n",
      "[273 rows x 3 columns]\n"
     ]
    }
   ],
   "source": [
    "db = './Capstone/\n",
    "conn = psycopg2.connect()"
   ]
  },
  {
   "cell_type": "code",
   "execution_count": null,
   "metadata": {
    "collapsed": true
   },
   "outputs": [],
   "source": []
  }
 ],
 "metadata": {
  "kernelspec": {
   "display_name": "Python 2",
   "language": "python",
   "name": "python2"
  },
  "language_info": {
   "codemirror_mode": {
    "name": "ipython",
    "version": 2
   },
   "file_extension": ".py",
   "mimetype": "text/x-python",
   "name": "python",
   "nbconvert_exporter": "python",
   "pygments_lexer": "ipython2",
   "version": "2.7.13"
  }
 },
 "nbformat": 4,
 "nbformat_minor": 2
}
